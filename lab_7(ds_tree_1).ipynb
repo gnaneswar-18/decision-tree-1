{
  "nbformat": 4,
  "nbformat_minor": 0,
  "metadata": {
    "colab": {
      "provenance": [],
      "mount_file_id": "1DvmJofW8EPuYmC7Fi3ATpxiVfWAWoTq9",
      "authorship_tag": "ABX9TyPdHm69bU5jDqc8y0u6DIjq",
      "include_colab_link": true
    },
    "kernelspec": {
      "name": "python3",
      "display_name": "Python 3"
    },
    "language_info": {
      "name": "python"
    }
  },
  "cells": [
    {
      "cell_type": "markdown",
      "metadata": {
        "id": "view-in-github",
        "colab_type": "text"
      },
      "source": [
        "<a href=\"https://colab.research.google.com/github/gnaneswar-18/decision-tree-1/blob/main/lab_7(ds_tree_1).ipynb\" target=\"_parent\"><img src=\"https://colab.research.google.com/assets/colab-badge.svg\" alt=\"Open In Colab\"/></a>"
      ]
    },
    {
      "cell_type": "code",
      "execution_count": null,
      "metadata": {
        "colab": {
          "base_uri": "https://localhost:8080/"
        },
        "id": "OymBeWnVilJN",
        "outputId": "cfd0cb88-574c-48e6-e735-2eb35dc9c8db"
      },
      "outputs": [
        {
          "output_type": "stream",
          "name": "stdout",
          "text": [
            "14\n",
            "Index(['Outlook', 'Temp.', 'Humidity', 'Wind', 'Decision'], dtype='object')\n"
          ]
        }
      ],
      "source": [
        "import numpy as np\n",
        "import pandas as pd\n",
        "\n",
        "data=pd.read_csv(\"/content/drive/MyDrive/Colab Notebooks/labs/Enjoy sports.csv\")\n",
        "print(len(data))\n",
        "print(data.keys()[1:])\n"
      ]
    },
    {
      "cell_type": "code",
      "source": [
        "import numpy as np\n",
        "import pandas as pd\n",
        "def entropy(data):\n",
        "    values, counts = np.unique(data, return_counts=True)\n",
        "    probs = counts / len(data)\n",
        "    return -np.sum(probs * np.log2(probs))\n",
        "def values(attr):\n",
        "  ls=[]\n",
        "  for x in attr:\n",
        "    if x not in ls:\n",
        "      ls.append(x)\n",
        "  return ls\n",
        "\n",
        "def info_gain(x, y, feature):\n",
        "    unique_val =values(x[:, feature])\n",
        "    feature_entropy = 0\n",
        "    for val in unique_val:\n",
        "        y_count = y[x[:, feature] == val]\n",
        "        feature_entropy += len(y_count) / len(y) * entropy(y_count)\n",
        "    return entropy(y) - feature_entropy\n",
        "\n",
        "def best_feature(x, y):\n",
        "    gain = [info_gain(x, y, i) for i in range(x.shape[1])]\n",
        "    return np.argmax(gain)\n",
        "\n",
        "def decision_tree(x, y):\n",
        "    if len(values(y)) == 1:\n",
        "        return values(y)[0]\n",
        "    best_feat = best_feature(x, y)\n",
        "    tree = {best_feat: {}}\n",
        "    for val in values(x[:, best_feat]):\n",
        "        sub_x = x[x[:, best_feat] == val]\n",
        "        sub_y = y[x[:, best_feat] == val]\n",
        "        tree[best_feat][val] = decision_tree(np.delete(sub_x, best_feat, axis=1), sub_y)\n",
        "    return tree\n",
        "\n",
        "data = pd.read_csv('/content/drive/MyDrive/Colab Notebooks/labs/Enjoy sports.csv')\n",
        "x = data.iloc[:, :-1].values\n",
        "y = data.iloc[:, -1].values\n",
        "dec_tree = decision_tree(x, y)\n",
        "print(dec_tree)\n",
        "\n"
      ],
      "metadata": {
        "colab": {
          "base_uri": "https://localhost:8080/"
        },
        "id": "DdOxkEd-3S3m",
        "outputId": "75267a65-99f6-424b-81bb-0cf7e96446b1"
      },
      "execution_count": null,
      "outputs": [
        {
          "output_type": "stream",
          "name": "stdout",
          "text": [
            "{0: {1: 'No', 2: 'No', 3: 'Yes', 4: 'Yes', 5: 'Yes', 6: 'No', 7: 'Yes', 8: 'No', 9: 'Yes', 10: 'Yes', 11: 'Yes', 12: 'Yes', 13: 'Yes', 14: 'No'}}\n"
          ]
        }
      ]
    },
    {
      "cell_type": "code",
      "source": [
        "from google.colab import drive\n",
        "drive.mount('/content/drive')"
      ],
      "metadata": {
        "id": "aAb_IlUp3YgZ"
      },
      "execution_count": null,
      "outputs": []
    },
    {
      "cell_type": "code",
      "source": [
        "def entropy(data):\n",
        "  d=data.iloc[:,-1]\n",
        "  d=d.value_counts()\n",
        "  s=0;\n",
        "  for v in d.keys():\n",
        "    p=d[v]/sum(d);\n",
        "    s-=p*np.log2(p);\n",
        "  return s"
      ],
      "metadata": {
        "id": "h9HCVGwFkiBR"
      },
      "execution_count": null,
      "outputs": []
    },
    {
      "cell_type": "code",
      "source": [
        "\n"
      ],
      "metadata": {
        "id": "fOtp-5pdmotC"
      },
      "execution_count": null,
      "outputs": []
    },
    {
      "cell_type": "code",
      "source": [
        "def ig(data,a):\n",
        "  es=entropy(data)\n",
        "  val=values(data[a])\n",
        "  sc=data[a].value_counts()\n",
        "  sv=[]\n",
        "  for v in range(len(val)):\n",
        "    temp_data=data[data[a]==val[v]]\n",
        "    s=0;\n",
        "    for res in values(data.iloc[:,-1]):\n",
        "      try:\n",
        "        pi=temp_data.iloc[:,-1].value_counts()[res]/len(temp_data)\n",
        "        s-=pi*np.log2(pi)\n",
        "      except:\n",
        "        s=0\n",
        "    sv.append(s)\n",
        "  for i in range(len(val)):\n",
        "    es-=sc[val[i]]*sv[i]/sum(sc)\n",
        "  print(es)\n",
        "\n",
        "ig(data,'Outlook')"
      ],
      "metadata": {
        "colab": {
          "base_uri": "https://localhost:8080/"
        },
        "id": "MxpIrFDwHvrB",
        "outputId": "322bdc22-0f34-4e0e-a275-f29df9d2cfa2"
      },
      "execution_count": null,
      "outputs": [
        {
          "output_type": "stream",
          "name": "stdout",
          "text": [
            "0.24674981977443927\n"
          ]
        }
      ]
    },
    {
      "cell_type": "code",
      "source": [
        "from sklearn.tree import DecisionTreeClassifier\n",
        "from sklearn.tree import export_graphviz\n",
        "import pandas as pd\n",
        "from sklearn.preprocessing import LabelEncoder\n",
        "import graphviz\n",
        "\n",
        "le=LabelEncoder()\n",
        "data['Outlook']=le.fit_transform(data['Outlook'])\n",
        "data['Temp.']=le.fit_transform(data['Temp.'])\n",
        "data['Wind']=le.fit_transform(data['Wind'])\n",
        "data['Humidity']=le.fit_transform(data['Humidity'])\n",
        "data['Decision']=le.fit_transform(data['Decision'])\n",
        "print(data)"
      ],
      "metadata": {
        "colab": {
          "base_uri": "https://localhost:8080/"
        },
        "id": "oBy-lzVfOxA2",
        "outputId": "cded55df-6d58-4b58-d1a3-32a347efa036"
      },
      "execution_count": null,
      "outputs": [
        {
          "output_type": "stream",
          "name": "stdout",
          "text": [
            "    Day  Outlook  Temp.  Humidity  Wind  Decision\n",
            "0     1        2      1         0     1         0\n",
            "1     2        2      1         0     0         0\n",
            "2     3        0      1         0     1         1\n",
            "3     4        1      2         0     1         1\n",
            "4     5        1      0         1     1         1\n",
            "5     6        1      0         1     0         0\n",
            "6     7        0      0         1     0         1\n",
            "7     8        2      2         0     1         0\n",
            "8     9        2      0         1     1         1\n",
            "9    10        1      2         1     1         1\n",
            "10   11        2      2         1     0         1\n",
            "11   12        0      2         0     0         1\n",
            "12   13        0      1         1     1         1\n",
            "13   14        1      2         0     0         0\n"
          ]
        }
      ]
    },
    {
      "cell_type": "code",
      "source": [
        "x=data[['Outlook','Temp.','Humidity','Wind']]\n",
        "y=data['Decision']\n",
        "tree=DecisionTreeClassifier(criterion='entropy',random_state=0)\n",
        "tree.fit(x,y)\n",
        "\n",
        "\n",
        "dot_data=export_graphviz(tree,out_file=None)\n",
        "graph = graphviz.Source(dot_data)\n",
        "graph.render(\"iris\")\n",
        "\n",
        "dot_data =export_graphviz(tree, out_file=None, feature_names=\n",
        "\n",
        "['outlook', 'temp', 'windy', 'humidity'], class_names=\n",
        "\n",
        "['no', 'yes'], filled=True, rounded=True,\n",
        "\n",
        "special_characters=True)\n",
        "\n",
        "graph= graphviz.Source(dot_data)\n",
        "\n",
        "graph"
      ],
      "metadata": {
        "colab": {
          "base_uri": "https://localhost:8080/",
          "height": 778
        },
        "id": "P6M1lEvpQBua",
        "outputId": "cca1b1d9-8717-4f91-f214-0b877e639b83"
      },
      "execution_count": null,
      "outputs": [
        {
          "output_type": "execute_result",
          "data": {
            "image/svg+xml": "<?xml version=\"1.0\" encoding=\"UTF-8\" standalone=\"no\"?>\n<!DOCTYPE svg PUBLIC \"-//W3C//DTD SVG 1.1//EN\"\n \"http://www.w3.org/Graphics/SVG/1.1/DTD/svg11.dtd\">\n<!-- Generated by graphviz version 2.43.0 (0)\n -->\n<!-- Title: Tree Pages: 1 -->\n<svg width=\"511pt\" height=\"552pt\"\n viewBox=\"0.00 0.00 511.00 552.00\" xmlns=\"http://www.w3.org/2000/svg\" xmlns:xlink=\"http://www.w3.org/1999/xlink\">\n<g id=\"graph0\" class=\"graph\" transform=\"scale(1 1) rotate(0) translate(4 548)\">\n<title>Tree</title>\n<polygon fill=\"white\" stroke=\"transparent\" points=\"-4,4 -4,-548 507,-548 507,4 -4,4\"/>\n<!-- 0 -->\n<g id=\"node1\" class=\"node\">\n<title>0</title>\n<path fill=\"#a7d3f3\" stroke=\"black\" d=\"M262,-544C262,-544 182,-544 182,-544 176,-544 170,-538 170,-532 170,-532 170,-473 170,-473 170,-467 176,-461 182,-461 182,-461 262,-461 262,-461 268,-461 274,-467 274,-473 274,-473 274,-532 274,-532 274,-538 268,-544 262,-544\"/>\n<text text-anchor=\"start\" x=\"183\" y=\"-528.8\" font-family=\"Helvetica,sans-Serif\" font-size=\"14.00\">outlook ≤ 0.5</text>\n<text text-anchor=\"start\" x=\"178\" y=\"-513.8\" font-family=\"Helvetica,sans-Serif\" font-size=\"14.00\">entropy = 0.94</text>\n<text text-anchor=\"start\" x=\"181\" y=\"-498.8\" font-family=\"Helvetica,sans-Serif\" font-size=\"14.00\">samples = 14</text>\n<text text-anchor=\"start\" x=\"182.5\" y=\"-483.8\" font-family=\"Helvetica,sans-Serif\" font-size=\"14.00\">value = [5, 9]</text>\n<text text-anchor=\"start\" x=\"188\" y=\"-468.8\" font-family=\"Helvetica,sans-Serif\" font-size=\"14.00\">class = yes</text>\n</g>\n<!-- 1 -->\n<g id=\"node2\" class=\"node\">\n<title>1</title>\n<path fill=\"#399de5\" stroke=\"black\" d=\"M201,-417.5C201,-417.5 129,-417.5 129,-417.5 123,-417.5 117,-411.5 117,-405.5 117,-405.5 117,-361.5 117,-361.5 117,-355.5 123,-349.5 129,-349.5 129,-349.5 201,-349.5 201,-349.5 207,-349.5 213,-355.5 213,-361.5 213,-361.5 213,-405.5 213,-405.5 213,-411.5 207,-417.5 201,-417.5\"/>\n<text text-anchor=\"start\" x=\"125\" y=\"-402.3\" font-family=\"Helvetica,sans-Serif\" font-size=\"14.00\">entropy = 0.0</text>\n<text text-anchor=\"start\" x=\"127.5\" y=\"-387.3\" font-family=\"Helvetica,sans-Serif\" font-size=\"14.00\">samples = 4</text>\n<text text-anchor=\"start\" x=\"125.5\" y=\"-372.3\" font-family=\"Helvetica,sans-Serif\" font-size=\"14.00\">value = [0, 4]</text>\n<text text-anchor=\"start\" x=\"131\" y=\"-357.3\" font-family=\"Helvetica,sans-Serif\" font-size=\"14.00\">class = yes</text>\n</g>\n<!-- 0&#45;&gt;1 -->\n<g id=\"edge1\" class=\"edge\">\n<title>0&#45;&gt;1</title>\n<path fill=\"none\" stroke=\"black\" d=\"M202.22,-460.91C196.85,-449.87 191.01,-437.9 185.59,-426.77\"/>\n<polygon fill=\"black\" stroke=\"black\" points=\"188.68,-425.12 181.16,-417.67 182.39,-428.19 188.68,-425.12\"/>\n<text text-anchor=\"middle\" x=\"173.01\" y=\"-437.6\" font-family=\"Helvetica,sans-Serif\" font-size=\"14.00\">True</text>\n</g>\n<!-- 2 -->\n<g id=\"node3\" class=\"node\">\n<title>2</title>\n<path fill=\"#ffffff\" stroke=\"black\" d=\"M317,-425C317,-425 243,-425 243,-425 237,-425 231,-419 231,-413 231,-413 231,-354 231,-354 231,-348 237,-342 243,-342 243,-342 317,-342 317,-342 323,-342 329,-348 329,-354 329,-354 329,-413 329,-413 329,-419 323,-425 317,-425\"/>\n<text text-anchor=\"start\" x=\"245.5\" y=\"-409.8\" font-family=\"Helvetica,sans-Serif\" font-size=\"14.00\">windy ≤ 0.5</text>\n<text text-anchor=\"start\" x=\"240\" y=\"-394.8\" font-family=\"Helvetica,sans-Serif\" font-size=\"14.00\">entropy = 1.0</text>\n<text text-anchor=\"start\" x=\"239\" y=\"-379.8\" font-family=\"Helvetica,sans-Serif\" font-size=\"14.00\">samples = 10</text>\n<text text-anchor=\"start\" x=\"240.5\" y=\"-364.8\" font-family=\"Helvetica,sans-Serif\" font-size=\"14.00\">value = [5, 5]</text>\n<text text-anchor=\"start\" x=\"249\" y=\"-349.8\" font-family=\"Helvetica,sans-Serif\" font-size=\"14.00\">class = no</text>\n</g>\n<!-- 0&#45;&gt;2 -->\n<g id=\"edge2\" class=\"edge\">\n<title>0&#45;&gt;2</title>\n<path fill=\"none\" stroke=\"black\" d=\"M242.12,-460.91C246.4,-452.29 250.96,-443.09 255.37,-434.17\"/>\n<polygon fill=\"black\" stroke=\"black\" points=\"258.61,-435.53 259.91,-425.02 252.34,-432.43 258.61,-435.53\"/>\n<text text-anchor=\"middle\" x=\"267.9\" y=\"-445.01\" font-family=\"Helvetica,sans-Serif\" font-size=\"14.00\">False</text>\n</g>\n<!-- 3 -->\n<g id=\"node4\" class=\"node\">\n<title>3</title>\n<path fill=\"#eca06a\" stroke=\"black\" d=\"M259.5,-306C259.5,-306 172.5,-306 172.5,-306 166.5,-306 160.5,-300 160.5,-294 160.5,-294 160.5,-235 160.5,-235 160.5,-229 166.5,-223 172.5,-223 172.5,-223 259.5,-223 259.5,-223 265.5,-223 271.5,-229 271.5,-235 271.5,-235 271.5,-294 271.5,-294 271.5,-300 265.5,-306 259.5,-306\"/>\n<text text-anchor=\"start\" x=\"177\" y=\"-290.8\" font-family=\"Helvetica,sans-Serif\" font-size=\"14.00\">outlook ≤ 1.5</text>\n<text text-anchor=\"start\" x=\"168.5\" y=\"-275.8\" font-family=\"Helvetica,sans-Serif\" font-size=\"14.00\">entropy = 0.722</text>\n<text text-anchor=\"start\" x=\"178.5\" y=\"-260.8\" font-family=\"Helvetica,sans-Serif\" font-size=\"14.00\">samples = 5</text>\n<text text-anchor=\"start\" x=\"176.5\" y=\"-245.8\" font-family=\"Helvetica,sans-Serif\" font-size=\"14.00\">value = [4, 1]</text>\n<text text-anchor=\"start\" x=\"185\" y=\"-230.8\" font-family=\"Helvetica,sans-Serif\" font-size=\"14.00\">class = no</text>\n</g>\n<!-- 2&#45;&gt;3 -->\n<g id=\"edge3\" class=\"edge\">\n<title>2&#45;&gt;3</title>\n<path fill=\"none\" stroke=\"black\" d=\"M257.8,-341.91C253.03,-333.2 247.94,-323.9 243.02,-314.89\"/>\n<polygon fill=\"black\" stroke=\"black\" points=\"246.03,-313.11 238.17,-306.02 239.89,-316.47 246.03,-313.11\"/>\n</g>\n<!-- 8 -->\n<g id=\"node9\" class=\"node\">\n<title>8</title>\n<path fill=\"#6ab6ec\" stroke=\"black\" d=\"M388.5,-306C388.5,-306 301.5,-306 301.5,-306 295.5,-306 289.5,-300 289.5,-294 289.5,-294 289.5,-235 289.5,-235 289.5,-229 295.5,-223 301.5,-223 301.5,-223 388.5,-223 388.5,-223 394.5,-223 400.5,-229 400.5,-235 400.5,-235 400.5,-294 400.5,-294 400.5,-300 394.5,-306 388.5,-306\"/>\n<text text-anchor=\"start\" x=\"302.5\" y=\"-290.8\" font-family=\"Helvetica,sans-Serif\" font-size=\"14.00\">humidity ≤ 0.5</text>\n<text text-anchor=\"start\" x=\"297.5\" y=\"-275.8\" font-family=\"Helvetica,sans-Serif\" font-size=\"14.00\">entropy = 0.722</text>\n<text text-anchor=\"start\" x=\"307.5\" y=\"-260.8\" font-family=\"Helvetica,sans-Serif\" font-size=\"14.00\">samples = 5</text>\n<text text-anchor=\"start\" x=\"305.5\" y=\"-245.8\" font-family=\"Helvetica,sans-Serif\" font-size=\"14.00\">value = [1, 4]</text>\n<text text-anchor=\"start\" x=\"311\" y=\"-230.8\" font-family=\"Helvetica,sans-Serif\" font-size=\"14.00\">class = yes</text>\n</g>\n<!-- 2&#45;&gt;8 -->\n<g id=\"edge8\" class=\"edge\">\n<title>2&#45;&gt;8</title>\n<path fill=\"none\" stroke=\"black\" d=\"M302.55,-341.91C307.39,-333.2 312.56,-323.9 317.56,-314.89\"/>\n<polygon fill=\"black\" stroke=\"black\" points=\"320.69,-316.46 322.49,-306.02 314.57,-313.06 320.69,-316.46\"/>\n</g>\n<!-- 4 -->\n<g id=\"node5\" class=\"node\">\n<title>4</title>\n<path fill=\"#ffffff\" stroke=\"black\" d=\"M141.5,-187C141.5,-187 64.5,-187 64.5,-187 58.5,-187 52.5,-181 52.5,-175 52.5,-175 52.5,-116 52.5,-116 52.5,-110 58.5,-104 64.5,-104 64.5,-104 141.5,-104 141.5,-104 147.5,-104 153.5,-110 153.5,-116 153.5,-116 153.5,-175 153.5,-175 153.5,-181 147.5,-187 141.5,-187\"/>\n<text text-anchor=\"start\" x=\"60.5\" y=\"-171.8\" font-family=\"Helvetica,sans-Serif\" font-size=\"14.00\">humidity ≤ 0.5</text>\n<text text-anchor=\"start\" x=\"63\" y=\"-156.8\" font-family=\"Helvetica,sans-Serif\" font-size=\"14.00\">entropy = 1.0</text>\n<text text-anchor=\"start\" x=\"65.5\" y=\"-141.8\" font-family=\"Helvetica,sans-Serif\" font-size=\"14.00\">samples = 2</text>\n<text text-anchor=\"start\" x=\"63.5\" y=\"-126.8\" font-family=\"Helvetica,sans-Serif\" font-size=\"14.00\">value = [1, 1]</text>\n<text text-anchor=\"start\" x=\"72\" y=\"-111.8\" font-family=\"Helvetica,sans-Serif\" font-size=\"14.00\">class = no</text>\n</g>\n<!-- 3&#45;&gt;4 -->\n<g id=\"edge4\" class=\"edge\">\n<title>3&#45;&gt;4</title>\n<path fill=\"none\" stroke=\"black\" d=\"M176.8,-222.91C167.94,-213.74 158.46,-203.93 149.35,-194.49\"/>\n<polygon fill=\"black\" stroke=\"black\" points=\"151.6,-191.78 142.14,-187.02 146.57,-196.65 151.6,-191.78\"/>\n</g>\n<!-- 7 -->\n<g id=\"node8\" class=\"node\">\n<title>7</title>\n<path fill=\"#e58139\" stroke=\"black\" d=\"M256,-179.5C256,-179.5 184,-179.5 184,-179.5 178,-179.5 172,-173.5 172,-167.5 172,-167.5 172,-123.5 172,-123.5 172,-117.5 178,-111.5 184,-111.5 184,-111.5 256,-111.5 256,-111.5 262,-111.5 268,-117.5 268,-123.5 268,-123.5 268,-167.5 268,-167.5 268,-173.5 262,-179.5 256,-179.5\"/>\n<text text-anchor=\"start\" x=\"180\" y=\"-164.3\" font-family=\"Helvetica,sans-Serif\" font-size=\"14.00\">entropy = 0.0</text>\n<text text-anchor=\"start\" x=\"182.5\" y=\"-149.3\" font-family=\"Helvetica,sans-Serif\" font-size=\"14.00\">samples = 3</text>\n<text text-anchor=\"start\" x=\"180.5\" y=\"-134.3\" font-family=\"Helvetica,sans-Serif\" font-size=\"14.00\">value = [3, 0]</text>\n<text text-anchor=\"start\" x=\"189\" y=\"-119.3\" font-family=\"Helvetica,sans-Serif\" font-size=\"14.00\">class = no</text>\n</g>\n<!-- 3&#45;&gt;7 -->\n<g id=\"edge7\" class=\"edge\">\n<title>3&#45;&gt;7</title>\n<path fill=\"none\" stroke=\"black\" d=\"M217.39,-222.91C217.75,-212.2 218.15,-200.62 218.52,-189.78\"/>\n<polygon fill=\"black\" stroke=\"black\" points=\"222.02,-189.78 218.87,-179.67 215.03,-189.54 222.02,-189.78\"/>\n</g>\n<!-- 5 -->\n<g id=\"node6\" class=\"node\">\n<title>5</title>\n<path fill=\"#e58139\" stroke=\"black\" d=\"M84,-68C84,-68 12,-68 12,-68 6,-68 0,-62 0,-56 0,-56 0,-12 0,-12 0,-6 6,0 12,0 12,0 84,0 84,0 90,0 96,-6 96,-12 96,-12 96,-56 96,-56 96,-62 90,-68 84,-68\"/>\n<text text-anchor=\"start\" x=\"8\" y=\"-52.8\" font-family=\"Helvetica,sans-Serif\" font-size=\"14.00\">entropy = 0.0</text>\n<text text-anchor=\"start\" x=\"10.5\" y=\"-37.8\" font-family=\"Helvetica,sans-Serif\" font-size=\"14.00\">samples = 1</text>\n<text text-anchor=\"start\" x=\"8.5\" y=\"-22.8\" font-family=\"Helvetica,sans-Serif\" font-size=\"14.00\">value = [1, 0]</text>\n<text text-anchor=\"start\" x=\"17\" y=\"-7.8\" font-family=\"Helvetica,sans-Serif\" font-size=\"14.00\">class = no</text>\n</g>\n<!-- 4&#45;&gt;5 -->\n<g id=\"edge5\" class=\"edge\">\n<title>4&#45;&gt;5</title>\n<path fill=\"none\" stroke=\"black\" d=\"M82.52,-103.73C78.21,-95.15 73.66,-86.09 69.32,-77.46\"/>\n<polygon fill=\"black\" stroke=\"black\" points=\"72.34,-75.66 64.73,-68.3 66.09,-78.81 72.34,-75.66\"/>\n</g>\n<!-- 6 -->\n<g id=\"node7\" class=\"node\">\n<title>6</title>\n<path fill=\"#399de5\" stroke=\"black\" d=\"M198,-68C198,-68 126,-68 126,-68 120,-68 114,-62 114,-56 114,-56 114,-12 114,-12 114,-6 120,0 126,0 126,0 198,0 198,0 204,0 210,-6 210,-12 210,-12 210,-56 210,-56 210,-62 204,-68 198,-68\"/>\n<text text-anchor=\"start\" x=\"122\" y=\"-52.8\" font-family=\"Helvetica,sans-Serif\" font-size=\"14.00\">entropy = 0.0</text>\n<text text-anchor=\"start\" x=\"124.5\" y=\"-37.8\" font-family=\"Helvetica,sans-Serif\" font-size=\"14.00\">samples = 1</text>\n<text text-anchor=\"start\" x=\"122.5\" y=\"-22.8\" font-family=\"Helvetica,sans-Serif\" font-size=\"14.00\">value = [0, 1]</text>\n<text text-anchor=\"start\" x=\"128\" y=\"-7.8\" font-family=\"Helvetica,sans-Serif\" font-size=\"14.00\">class = yes</text>\n</g>\n<!-- 4&#45;&gt;6 -->\n<g id=\"edge6\" class=\"edge\">\n<title>4&#45;&gt;6</title>\n<path fill=\"none\" stroke=\"black\" d=\"M124.97,-103.73C129.64,-95.06 134.58,-85.9 139.27,-77.18\"/>\n<polygon fill=\"black\" stroke=\"black\" points=\"142.4,-78.76 144.06,-68.3 136.23,-75.44 142.4,-78.76\"/>\n</g>\n<!-- 9 -->\n<g id=\"node10\" class=\"node\">\n<title>9</title>\n<path fill=\"#ffffff\" stroke=\"black\" d=\"M377,-187C377,-187 305,-187 305,-187 299,-187 293,-181 293,-175 293,-175 293,-116 293,-116 293,-110 299,-104 305,-104 305,-104 377,-104 377,-104 383,-104 389,-110 389,-116 389,-116 389,-175 389,-175 389,-181 383,-187 377,-187\"/>\n<text text-anchor=\"start\" x=\"308.5\" y=\"-171.8\" font-family=\"Helvetica,sans-Serif\" font-size=\"14.00\">temp ≤ 1.0</text>\n<text text-anchor=\"start\" x=\"301\" y=\"-156.8\" font-family=\"Helvetica,sans-Serif\" font-size=\"14.00\">entropy = 1.0</text>\n<text text-anchor=\"start\" x=\"303.5\" y=\"-141.8\" font-family=\"Helvetica,sans-Serif\" font-size=\"14.00\">samples = 2</text>\n<text text-anchor=\"start\" x=\"301.5\" y=\"-126.8\" font-family=\"Helvetica,sans-Serif\" font-size=\"14.00\">value = [1, 1]</text>\n<text text-anchor=\"start\" x=\"310\" y=\"-111.8\" font-family=\"Helvetica,sans-Serif\" font-size=\"14.00\">class = no</text>\n</g>\n<!-- 8&#45;&gt;9 -->\n<g id=\"edge9\" class=\"edge\">\n<title>8&#45;&gt;9</title>\n<path fill=\"none\" stroke=\"black\" d=\"M343.61,-222.91C343.33,-214.56 343.02,-205.67 342.73,-197.02\"/>\n<polygon fill=\"black\" stroke=\"black\" points=\"346.23,-196.9 342.39,-187.02 339.23,-197.13 346.23,-196.9\"/>\n</g>\n<!-- 12 -->\n<g id=\"node13\" class=\"node\">\n<title>12</title>\n<path fill=\"#399de5\" stroke=\"black\" d=\"M491,-179.5C491,-179.5 419,-179.5 419,-179.5 413,-179.5 407,-173.5 407,-167.5 407,-167.5 407,-123.5 407,-123.5 407,-117.5 413,-111.5 419,-111.5 419,-111.5 491,-111.5 491,-111.5 497,-111.5 503,-117.5 503,-123.5 503,-123.5 503,-167.5 503,-167.5 503,-173.5 497,-179.5 491,-179.5\"/>\n<text text-anchor=\"start\" x=\"415\" y=\"-164.3\" font-family=\"Helvetica,sans-Serif\" font-size=\"14.00\">entropy = 0.0</text>\n<text text-anchor=\"start\" x=\"417.5\" y=\"-149.3\" font-family=\"Helvetica,sans-Serif\" font-size=\"14.00\">samples = 3</text>\n<text text-anchor=\"start\" x=\"415.5\" y=\"-134.3\" font-family=\"Helvetica,sans-Serif\" font-size=\"14.00\">value = [0, 3]</text>\n<text text-anchor=\"start\" x=\"421\" y=\"-119.3\" font-family=\"Helvetica,sans-Serif\" font-size=\"14.00\">class = yes</text>\n</g>\n<!-- 8&#45;&gt;12 -->\n<g id=\"edge12\" class=\"edge\">\n<title>8&#45;&gt;12</title>\n<path fill=\"none\" stroke=\"black\" d=\"M383.16,-222.91C394.06,-211.32 405.93,-198.7 416.82,-187.11\"/>\n<polygon fill=\"black\" stroke=\"black\" points=\"419.52,-189.35 423.82,-179.67 414.42,-184.56 419.52,-189.35\"/>\n</g>\n<!-- 10 -->\n<g id=\"node11\" class=\"node\">\n<title>10</title>\n<path fill=\"#e58139\" stroke=\"black\" d=\"M341,-68C341,-68 269,-68 269,-68 263,-68 257,-62 257,-56 257,-56 257,-12 257,-12 257,-6 263,0 269,0 269,0 341,0 341,0 347,0 353,-6 353,-12 353,-12 353,-56 353,-56 353,-62 347,-68 341,-68\"/>\n<text text-anchor=\"start\" x=\"265\" y=\"-52.8\" font-family=\"Helvetica,sans-Serif\" font-size=\"14.00\">entropy = 0.0</text>\n<text text-anchor=\"start\" x=\"267.5\" y=\"-37.8\" font-family=\"Helvetica,sans-Serif\" font-size=\"14.00\">samples = 1</text>\n<text text-anchor=\"start\" x=\"265.5\" y=\"-22.8\" font-family=\"Helvetica,sans-Serif\" font-size=\"14.00\">value = [1, 0]</text>\n<text text-anchor=\"start\" x=\"274\" y=\"-7.8\" font-family=\"Helvetica,sans-Serif\" font-size=\"14.00\">class = no</text>\n</g>\n<!-- 9&#45;&gt;10 -->\n<g id=\"edge10\" class=\"edge\">\n<title>9&#45;&gt;10</title>\n<path fill=\"none\" stroke=\"black\" d=\"M327.59,-103.73C324.84,-95.34 321.92,-86.47 319.14,-78.01\"/>\n<polygon fill=\"black\" stroke=\"black\" points=\"322.4,-76.71 315.95,-68.3 315.75,-78.89 322.4,-76.71\"/>\n</g>\n<!-- 11 -->\n<g id=\"node12\" class=\"node\">\n<title>11</title>\n<path fill=\"#399de5\" stroke=\"black\" d=\"M455,-68C455,-68 383,-68 383,-68 377,-68 371,-62 371,-56 371,-56 371,-12 371,-12 371,-6 377,0 383,0 383,0 455,0 455,0 461,0 467,-6 467,-12 467,-12 467,-56 467,-56 467,-62 461,-68 455,-68\"/>\n<text text-anchor=\"start\" x=\"379\" y=\"-52.8\" font-family=\"Helvetica,sans-Serif\" font-size=\"14.00\">entropy = 0.0</text>\n<text text-anchor=\"start\" x=\"381.5\" y=\"-37.8\" font-family=\"Helvetica,sans-Serif\" font-size=\"14.00\">samples = 1</text>\n<text text-anchor=\"start\" x=\"379.5\" y=\"-22.8\" font-family=\"Helvetica,sans-Serif\" font-size=\"14.00\">value = [0, 1]</text>\n<text text-anchor=\"start\" x=\"385\" y=\"-7.8\" font-family=\"Helvetica,sans-Serif\" font-size=\"14.00\">class = yes</text>\n</g>\n<!-- 9&#45;&gt;11 -->\n<g id=\"edge11\" class=\"edge\">\n<title>9&#45;&gt;11</title>\n<path fill=\"none\" stroke=\"black\" d=\"M370.04,-103.73C376.35,-94.88 383.02,-85.51 389.35,-76.63\"/>\n<polygon fill=\"black\" stroke=\"black\" points=\"392.33,-78.48 395.28,-68.3 386.63,-74.41 392.33,-78.48\"/>\n</g>\n</g>\n</svg>\n",
            "text/plain": [
              "<graphviz.sources.Source at 0x79b99b313e80>"
            ]
          },
          "metadata": {},
          "execution_count": 40
        }
      ]
    }
  ]
}